{
 "cells": [
  {
   "cell_type": "code",
   "execution_count": 308,
   "id": "bibliographic-orientation",
   "metadata": {},
   "outputs": [],
   "source": [
    "import pandas as pd\n",
    "import numpy as np\n",
    "import argparse\n",
    "import os\n",
    "import glob\n",
    "import random\n",
    "import matplotlib.pyplot as plt\n",
    "import sklearn.decomposition"
   ]
  },
  {
   "cell_type": "code",
   "execution_count": 309,
   "id": "accredited-receiver",
   "metadata": {},
   "outputs": [],
   "source": [
    "# load annotation file\n",
    "df = (pd.read_csv(\"annotations.csv\")).dropna()"
   ]
  },
  {
   "cell_type": "code",
   "execution_count": 310,
   "id": "distributed-suicide",
   "metadata": {},
   "outputs": [
    {
     "data": {
      "text/html": [
       "<div>\n",
       "<style scoped>\n",
       "    .dataframe tbody tr th:only-of-type {\n",
       "        vertical-align: middle;\n",
       "    }\n",
       "\n",
       "    .dataframe tbody tr th {\n",
       "        vertical-align: top;\n",
       "    }\n",
       "\n",
       "    .dataframe thead th {\n",
       "        text-align: right;\n",
       "    }\n",
       "</style>\n",
       "<table border=\"1\" class=\"dataframe\">\n",
       "  <thead>\n",
       "    <tr style=\"text-align: right;\">\n",
       "      <th></th>\n",
       "      <th>run</th>\n",
       "      <th>event_id</th>\n",
       "      <th>Time</th>\n",
       "      <th>TR</th>\n",
       "      <th>VideoName</th>\n",
       "      <th>Event</th>\n",
       "      <th>CurrRound</th>\n",
       "      <th>Direction</th>\n",
       "      <th>dir_next</th>\n",
       "      <th>dir_prev</th>\n",
       "    </tr>\n",
       "  </thead>\n",
       "  <tbody>\n",
       "    <tr>\n",
       "      <th>3</th>\n",
       "      <td>1</td>\n",
       "      <td>3</td>\n",
       "      <td>17.080850</td>\n",
       "      <td>10</td>\n",
       "      <td>level_01_10.mov</td>\n",
       "      <td>CollectedCoin</td>\n",
       "      <td>0.0</td>\n",
       "      <td>S</td>\n",
       "      <td>S</td>\n",
       "      <td>L</td>\n",
       "    </tr>\n",
       "    <tr>\n",
       "      <th>4</th>\n",
       "      <td>1</td>\n",
       "      <td>4</td>\n",
       "      <td>18.047428</td>\n",
       "      <td>11</td>\n",
       "      <td>level_01_10.mov</td>\n",
       "      <td>CollectedCoin</td>\n",
       "      <td>0.0</td>\n",
       "      <td>S</td>\n",
       "      <td>L</td>\n",
       "      <td>S</td>\n",
       "    </tr>\n",
       "    <tr>\n",
       "      <th>5</th>\n",
       "      <td>1</td>\n",
       "      <td>5</td>\n",
       "      <td>19.263901</td>\n",
       "      <td>11</td>\n",
       "      <td>level_01_10.mov</td>\n",
       "      <td>CollectedCoin</td>\n",
       "      <td>0.0</td>\n",
       "      <td>L</td>\n",
       "      <td>R</td>\n",
       "      <td>S</td>\n",
       "    </tr>\n",
       "    <tr>\n",
       "      <th>6</th>\n",
       "      <td>1</td>\n",
       "      <td>6</td>\n",
       "      <td>20.214619</td>\n",
       "      <td>12</td>\n",
       "      <td>level_01_10.mov</td>\n",
       "      <td>CollectedCoin</td>\n",
       "      <td>0.0</td>\n",
       "      <td>R</td>\n",
       "      <td>R</td>\n",
       "      <td>L</td>\n",
       "    </tr>\n",
       "    <tr>\n",
       "      <th>7</th>\n",
       "      <td>1</td>\n",
       "      <td>7</td>\n",
       "      <td>20.797427</td>\n",
       "      <td>12</td>\n",
       "      <td>level_01_10.mov</td>\n",
       "      <td>CollectedCoin</td>\n",
       "      <td>0.0</td>\n",
       "      <td>R</td>\n",
       "      <td>S</td>\n",
       "      <td>R</td>\n",
       "    </tr>\n",
       "    <tr>\n",
       "      <th>...</th>\n",
       "      <td>...</td>\n",
       "      <td>...</td>\n",
       "      <td>...</td>\n",
       "      <td>...</td>\n",
       "      <td>...</td>\n",
       "      <td>...</td>\n",
       "      <td>...</td>\n",
       "      <td>...</td>\n",
       "      <td>...</td>\n",
       "      <td>...</td>\n",
       "    </tr>\n",
       "    <tr>\n",
       "      <th>352</th>\n",
       "      <td>2</td>\n",
       "      <td>189</td>\n",
       "      <td>244.890863</td>\n",
       "      <td>162</td>\n",
       "      <td>level_02_15.mov</td>\n",
       "      <td>CollectedCoin</td>\n",
       "      <td>12.0</td>\n",
       "      <td>S</td>\n",
       "      <td>S</td>\n",
       "      <td>R</td>\n",
       "    </tr>\n",
       "    <tr>\n",
       "      <th>353</th>\n",
       "      <td>2</td>\n",
       "      <td>190</td>\n",
       "      <td>246.457064</td>\n",
       "      <td>163</td>\n",
       "      <td>level_02_15.mov</td>\n",
       "      <td>CollectedCoin</td>\n",
       "      <td>12.0</td>\n",
       "      <td>S</td>\n",
       "      <td>L</td>\n",
       "      <td>S</td>\n",
       "    </tr>\n",
       "    <tr>\n",
       "      <th>354</th>\n",
       "      <td>2</td>\n",
       "      <td>191</td>\n",
       "      <td>247.106677</td>\n",
       "      <td>163</td>\n",
       "      <td>level_02_15.mov</td>\n",
       "      <td>CollectedCoin</td>\n",
       "      <td>12.0</td>\n",
       "      <td>L</td>\n",
       "      <td>S</td>\n",
       "      <td>S</td>\n",
       "    </tr>\n",
       "    <tr>\n",
       "      <th>355</th>\n",
       "      <td>2</td>\n",
       "      <td>192</td>\n",
       "      <td>248.124247</td>\n",
       "      <td>164</td>\n",
       "      <td>level_02_15.mov</td>\n",
       "      <td>CollectedCoin</td>\n",
       "      <td>12.0</td>\n",
       "      <td>S</td>\n",
       "      <td>R</td>\n",
       "      <td>L</td>\n",
       "    </tr>\n",
       "    <tr>\n",
       "      <th>356</th>\n",
       "      <td>2</td>\n",
       "      <td>193</td>\n",
       "      <td>249.223503</td>\n",
       "      <td>165</td>\n",
       "      <td>level_02_15.mov</td>\n",
       "      <td>CollectedCoin</td>\n",
       "      <td>12.0</td>\n",
       "      <td>R</td>\n",
       "      <td>S</td>\n",
       "      <td>S</td>\n",
       "    </tr>\n",
       "  </tbody>\n",
       "</table>\n",
       "<p>266 rows × 10 columns</p>\n",
       "</div>"
      ],
      "text/plain": [
       "     run  event_id        Time   TR        VideoName          Event  \\\n",
       "3      1         3   17.080850   10  level_01_10.mov  CollectedCoin   \n",
       "4      1         4   18.047428   11  level_01_10.mov  CollectedCoin   \n",
       "5      1         5   19.263901   11  level_01_10.mov  CollectedCoin   \n",
       "6      1         6   20.214619   12  level_01_10.mov  CollectedCoin   \n",
       "7      1         7   20.797427   12  level_01_10.mov  CollectedCoin   \n",
       "..   ...       ...         ...  ...              ...            ...   \n",
       "352    2       189  244.890863  162  level_02_15.mov  CollectedCoin   \n",
       "353    2       190  246.457064  163  level_02_15.mov  CollectedCoin   \n",
       "354    2       191  247.106677  163  level_02_15.mov  CollectedCoin   \n",
       "355    2       192  248.124247  164  level_02_15.mov  CollectedCoin   \n",
       "356    2       193  249.223503  165  level_02_15.mov  CollectedCoin   \n",
       "\n",
       "     CurrRound Direction dir_next dir_prev  \n",
       "3          0.0         S        S        L  \n",
       "4          0.0         S        L        S  \n",
       "5          0.0         L        R        S  \n",
       "6          0.0         R        R        L  \n",
       "7          0.0         R        S        R  \n",
       "..         ...       ...      ...      ...  \n",
       "352       12.0         S        S        R  \n",
       "353       12.0         S        L        S  \n",
       "354       12.0         L        S        S  \n",
       "355       12.0         S        R        L  \n",
       "356       12.0         R        S        S  \n",
       "\n",
       "[266 rows x 10 columns]"
      ]
     },
     "execution_count": 310,
     "metadata": {},
     "output_type": "execute_result"
    }
   ],
   "source": [
    "df"
   ]
  },
  {
   "cell_type": "code",
   "execution_count": 311,
   "id": "mental-nelson",
   "metadata": {},
   "outputs": [
    {
     "data": {
      "text/html": [
       "<div>\n",
       "<style scoped>\n",
       "    .dataframe tbody tr th:only-of-type {\n",
       "        vertical-align: middle;\n",
       "    }\n",
       "\n",
       "    .dataframe tbody tr th {\n",
       "        vertical-align: top;\n",
       "    }\n",
       "\n",
       "    .dataframe thead th {\n",
       "        text-align: right;\n",
       "    }\n",
       "</style>\n",
       "<table border=\"1\" class=\"dataframe\">\n",
       "  <thead>\n",
       "    <tr style=\"text-align: right;\">\n",
       "      <th></th>\n",
       "      <th>run</th>\n",
       "      <th>event_id</th>\n",
       "      <th>Time</th>\n",
       "      <th>TR</th>\n",
       "      <th>VideoName</th>\n",
       "      <th>Event</th>\n",
       "      <th>CurrRound</th>\n",
       "      <th>Direction</th>\n",
       "      <th>dir_next</th>\n",
       "      <th>dir_prev</th>\n",
       "    </tr>\n",
       "  </thead>\n",
       "  <tbody>\n",
       "    <tr>\n",
       "      <th>166</th>\n",
       "      <td>2</td>\n",
       "      <td>3</td>\n",
       "      <td>17.972981</td>\n",
       "      <td>11</td>\n",
       "      <td>level_02_15.mov</td>\n",
       "      <td>CollectedCoin</td>\n",
       "      <td>0.0</td>\n",
       "      <td>R</td>\n",
       "      <td>S</td>\n",
       "      <td>S</td>\n",
       "    </tr>\n",
       "    <tr>\n",
       "      <th>167</th>\n",
       "      <td>2</td>\n",
       "      <td>4</td>\n",
       "      <td>18.605519</td>\n",
       "      <td>12</td>\n",
       "      <td>level_02_15.mov</td>\n",
       "      <td>CollectedCoin</td>\n",
       "      <td>0.0</td>\n",
       "      <td>S</td>\n",
       "      <td>L</td>\n",
       "      <td>R</td>\n",
       "    </tr>\n",
       "    <tr>\n",
       "      <th>168</th>\n",
       "      <td>2</td>\n",
       "      <td>5</td>\n",
       "      <td>19.439077</td>\n",
       "      <td>12</td>\n",
       "      <td>level_02_15.mov</td>\n",
       "      <td>CollectedCoin</td>\n",
       "      <td>0.0</td>\n",
       "      <td>L</td>\n",
       "      <td>S</td>\n",
       "      <td>S</td>\n",
       "    </tr>\n",
       "    <tr>\n",
       "      <th>169</th>\n",
       "      <td>2</td>\n",
       "      <td>6</td>\n",
       "      <td>20.522131</td>\n",
       "      <td>13</td>\n",
       "      <td>level_02_15.mov</td>\n",
       "      <td>CollectedCoin</td>\n",
       "      <td>0.0</td>\n",
       "      <td>S</td>\n",
       "      <td>R</td>\n",
       "      <td>L</td>\n",
       "    </tr>\n",
       "    <tr>\n",
       "      <th>170</th>\n",
       "      <td>2</td>\n",
       "      <td>7</td>\n",
       "      <td>21.622257</td>\n",
       "      <td>14</td>\n",
       "      <td>level_02_15.mov</td>\n",
       "      <td>CollectedCoin</td>\n",
       "      <td>0.0</td>\n",
       "      <td>R</td>\n",
       "      <td>S</td>\n",
       "      <td>S</td>\n",
       "    </tr>\n",
       "    <tr>\n",
       "      <th>...</th>\n",
       "      <td>...</td>\n",
       "      <td>...</td>\n",
       "      <td>...</td>\n",
       "      <td>...</td>\n",
       "      <td>...</td>\n",
       "      <td>...</td>\n",
       "      <td>...</td>\n",
       "      <td>...</td>\n",
       "      <td>...</td>\n",
       "      <td>...</td>\n",
       "    </tr>\n",
       "    <tr>\n",
       "      <th>352</th>\n",
       "      <td>2</td>\n",
       "      <td>189</td>\n",
       "      <td>244.890863</td>\n",
       "      <td>162</td>\n",
       "      <td>level_02_15.mov</td>\n",
       "      <td>CollectedCoin</td>\n",
       "      <td>12.0</td>\n",
       "      <td>S</td>\n",
       "      <td>S</td>\n",
       "      <td>R</td>\n",
       "    </tr>\n",
       "    <tr>\n",
       "      <th>353</th>\n",
       "      <td>2</td>\n",
       "      <td>190</td>\n",
       "      <td>246.457064</td>\n",
       "      <td>163</td>\n",
       "      <td>level_02_15.mov</td>\n",
       "      <td>CollectedCoin</td>\n",
       "      <td>12.0</td>\n",
       "      <td>S</td>\n",
       "      <td>L</td>\n",
       "      <td>S</td>\n",
       "    </tr>\n",
       "    <tr>\n",
       "      <th>354</th>\n",
       "      <td>2</td>\n",
       "      <td>191</td>\n",
       "      <td>247.106677</td>\n",
       "      <td>163</td>\n",
       "      <td>level_02_15.mov</td>\n",
       "      <td>CollectedCoin</td>\n",
       "      <td>12.0</td>\n",
       "      <td>L</td>\n",
       "      <td>S</td>\n",
       "      <td>S</td>\n",
       "    </tr>\n",
       "    <tr>\n",
       "      <th>355</th>\n",
       "      <td>2</td>\n",
       "      <td>192</td>\n",
       "      <td>248.124247</td>\n",
       "      <td>164</td>\n",
       "      <td>level_02_15.mov</td>\n",
       "      <td>CollectedCoin</td>\n",
       "      <td>12.0</td>\n",
       "      <td>S</td>\n",
       "      <td>R</td>\n",
       "      <td>L</td>\n",
       "    </tr>\n",
       "    <tr>\n",
       "      <th>356</th>\n",
       "      <td>2</td>\n",
       "      <td>193</td>\n",
       "      <td>249.223503</td>\n",
       "      <td>165</td>\n",
       "      <td>level_02_15.mov</td>\n",
       "      <td>CollectedCoin</td>\n",
       "      <td>12.0</td>\n",
       "      <td>R</td>\n",
       "      <td>S</td>\n",
       "      <td>S</td>\n",
       "    </tr>\n",
       "  </tbody>\n",
       "</table>\n",
       "<p>155 rows × 10 columns</p>\n",
       "</div>"
      ],
      "text/plain": [
       "     run  event_id        Time   TR        VideoName          Event  \\\n",
       "166    2         3   17.972981   11  level_02_15.mov  CollectedCoin   \n",
       "167    2         4   18.605519   12  level_02_15.mov  CollectedCoin   \n",
       "168    2         5   19.439077   12  level_02_15.mov  CollectedCoin   \n",
       "169    2         6   20.522131   13  level_02_15.mov  CollectedCoin   \n",
       "170    2         7   21.622257   14  level_02_15.mov  CollectedCoin   \n",
       "..   ...       ...         ...  ...              ...            ...   \n",
       "352    2       189  244.890863  162  level_02_15.mov  CollectedCoin   \n",
       "353    2       190  246.457064  163  level_02_15.mov  CollectedCoin   \n",
       "354    2       191  247.106677  163  level_02_15.mov  CollectedCoin   \n",
       "355    2       192  248.124247  164  level_02_15.mov  CollectedCoin   \n",
       "356    2       193  249.223503  165  level_02_15.mov  CollectedCoin   \n",
       "\n",
       "     CurrRound Direction dir_next dir_prev  \n",
       "166        0.0         R        S        S  \n",
       "167        0.0         S        L        R  \n",
       "168        0.0         L        S        S  \n",
       "169        0.0         S        R        L  \n",
       "170        0.0         R        S        S  \n",
       "..         ...       ...      ...      ...  \n",
       "352       12.0         S        S        R  \n",
       "353       12.0         S        L        S  \n",
       "354       12.0         L        S        S  \n",
       "355       12.0         S        R        L  \n",
       "356       12.0         R        S        S  \n",
       "\n",
       "[155 rows x 10 columns]"
      ]
     },
     "execution_count": 311,
     "metadata": {},
     "output_type": "execute_result"
    }
   ],
   "source": [
    "run_id = 2\n",
    "\n",
    "df_run = df[df['run']==run_id]\n",
    "df_run.shape\n",
    "df_run"
   ]
  },
  {
   "source": [
    "Extract frames where avatar moves left/right"
   ],
   "cell_type": "markdown",
   "metadata": {}
  },
  {
   "cell_type": "code",
   "execution_count": 312,
   "id": "comfortable-transfer",
   "metadata": {},
   "outputs": [],
   "source": [
    "# frames_of_interest = set()\n",
    "# frame_tuples = set()\n",
    "\n",
    "# for frame in df_run['TR'].unique():\n",
    "#     dirs = set(df_run[df_run['TR'] == frame]['Direction'])\n",
    "#     contains_lr = dirs & set(['L', 'R'])\n",
    "#     clear_change = (len(df_run[df_run['TR'] == frame]['Direction']) > 1)\n",
    "\n",
    "\n",
    "#     if (len(contains_lr) == 1) and ('S' not in dirs): \n",
    "#         frames_of_interest.add(frame)\n",
    "#         frame_tuples.add((run_id, frame, list(contains_lr)[0]))"
   ]
  },
  {
   "cell_type": "code",
   "execution_count": 313,
   "id": "uniform-bermuda",
   "metadata": {},
   "outputs": [],
   "source": [
    "frames_of_interest = set()\n",
    "frame_tuples = set()\n",
    "for run_id in [1,2]:\n",
    "    \n",
    "    df_run = df[df['run']==run_id]\n",
    "    \n",
    "    for frame in df_run['TR'].unique():\n",
    "        dirs = set(df_run[df_run['TR'] == frame]['Direction'])\n",
    "        contains_lr = dirs & set(['L', 'R'])\n",
    "        clear_change = (len(df_run[df_run['TR'] == frame]['Direction']) > 1)\n",
    "\n",
    "\n",
    "        if (len(contains_lr) == 1) and ('S' not in dirs): \n",
    "            frames_of_interest.add(frame)\n",
    "            frame_tuples.add((run_id, frame, list(contains_lr)[0]))"
   ]
  },
  {
   "cell_type": "code",
   "execution_count": 314,
   "id": "italian-container",
   "metadata": {},
   "outputs": [],
   "source": [
    "# left = set()\n",
    "# right = set()\n",
    "# for index, row in df_run.iterrows():\n",
    "#     if row[\"Direction\"] == 'R' and row[\"dir_prev\"] in ['S', 'R'] and row[\"dir_next\"] in ['S', 'R']:\n",
    "#         right.add(row['TR'])\n",
    "    \n",
    "#     if row[\"Direction\"] == 'L' and row[\"dir_prev\"] in ['S', 'L'] and row[\"dir_next\"] in ['S', 'L']:\n",
    "#         left.add(row['TR']) \n",
    "\n",
    "# frame_tuples = [(f, 'R') for f in right]\n",
    "# frame_tuples.extend([(f, 'L') for f in left])"
   ]
  },
  {
   "cell_type": "code",
   "execution_count": 315,
   "id": "piano-trailer",
   "metadata": {},
   "outputs": [
    {
     "data": {
      "text/plain": [
       "{(1, 12, 'R'),\n",
       " (1, 18, 'R'),\n",
       " (1, 24, 'R'),\n",
       " (1, 26, 'L'),\n",
       " (1, 34, 'R'),\n",
       " (1, 35, 'L'),\n",
       " (1, 36, 'R'),\n",
       " (1, 40, 'R'),\n",
       " (1, 42, 'L'),\n",
       " (1, 44, 'R'),\n",
       " (1, 45, 'L'),\n",
       " (1, 49, 'L'),\n",
       " (1, 50, 'L'),\n",
       " (1, 52, 'R'),\n",
       " (1, 53, 'L'),\n",
       " (1, 60, 'R'),\n",
       " (1, 61, 'L'),\n",
       " (1, 68, 'L'),\n",
       " (1, 70, 'R'),\n",
       " (1, 76, 'R'),\n",
       " (1, 77, 'L'),\n",
       " (1, 88, 'L'),\n",
       " (1, 90, 'L'),\n",
       " (1, 91, 'R'),\n",
       " (1, 96, 'L'),\n",
       " (1, 105, 'L'),\n",
       " (1, 106, 'L'),\n",
       " (1, 110, 'L'),\n",
       " (1, 112, 'R'),\n",
       " (1, 119, 'L'),\n",
       " (1, 121, 'R'),\n",
       " (1, 123, 'L'),\n",
       " (1, 130, 'L'),\n",
       " (1, 131, 'L'),\n",
       " (1, 135, 'R'),\n",
       " (1, 136, 'L'),\n",
       " (1, 137, 'R'),\n",
       " (1, 138, 'R'),\n",
       " (2, 11, 'R'),\n",
       " (2, 14, 'R'),\n",
       " (2, 16, 'R'),\n",
       " (2, 24, 'L'),\n",
       " (2, 25, 'R'),\n",
       " (2, 26, 'L'),\n",
       " (2, 27, 'L'),\n",
       " (2, 31, 'R'),\n",
       " (2, 45, 'R'),\n",
       " (2, 46, 'L'),\n",
       " (2, 47, 'R'),\n",
       " (2, 48, 'L'),\n",
       " (2, 50, 'R'),\n",
       " (2, 58, 'L'),\n",
       " (2, 61, 'R'),\n",
       " (2, 66, 'L'),\n",
       " (2, 68, 'L'),\n",
       " (2, 85, 'L'),\n",
       " (2, 96, 'L'),\n",
       " (2, 98, 'R'),\n",
       " (2, 106, 'R'),\n",
       " (2, 108, 'R'),\n",
       " (2, 110, 'L'),\n",
       " (2, 112, 'R'),\n",
       " (2, 123, 'L'),\n",
       " (2, 131, 'L'),\n",
       " (2, 133, 'L'),\n",
       " (2, 136, 'L'),\n",
       " (2, 137, 'R'),\n",
       " (2, 139, 'L'),\n",
       " (2, 146, 'R'),\n",
       " (2, 152, 'R'),\n",
       " (2, 159, 'R'),\n",
       " (2, 161, 'R'),\n",
       " (2, 165, 'R')}"
      ]
     },
     "execution_count": 315,
     "metadata": {},
     "output_type": "execute_result"
    }
   ],
   "source": [
    "# df_1[df_1['TR'].isin(frames_of_interest)]\n",
    "\n",
    "frame_tuples"
   ]
  },
  {
   "cell_type": "code",
   "execution_count": 316,
   "id": "young-miniature",
   "metadata": {},
   "outputs": [],
   "source": [
    "### load data\n",
    "import nibabel as nib\n",
    "from nilearn.input_data import NiftiMasker\n",
    "from nilearn.image import math_img\n",
    "from scipy.stats import zscore\n",
    "import re\n",
    "\n",
    "def mask_ROI_cluster(ROI_nii, timeseries_nii, cluster_ind=None, do_zscore=True):\n",
    "    if cluster_ind is None:\n",
    "        mask_nii = math_img(\"img > 0\", img=ROI_nii)\n",
    "    else:\n",
    "        mask_nii = math_img(\"img == {}\".format(cluster_ind), img=ROI_nii)\n",
    "        \n",
    "    masker = NiftiMasker(mask_img=mask_nii)\n",
    "    masked_timeseries = masker.fit_transform(timeseries_nii)\n",
    "    \n",
    "    if do_zscore:\n",
    "        masked_timeseries = zscore(masked_timeseries, axis=0, nan_policy='raise')\n",
    "        \n",
    "    return masked_timeseries\n",
    "\n",
    "# extract run id from nii filename\n",
    "files_loaded = 0\n",
    "def get_run_id(nii_file):\n",
    "    run_str = re.findall('run-\\d+', nii_file)\n",
    "    run_id = int(run_str[0].split('-')[1])\n",
    "    return run_id"
   ]
  },
  {
   "cell_type": "markdown",
   "id": "compact-college",
   "metadata": {},
   "source": [
    "## PHATE PLOTS"
   ]
  },
  {
   "cell_type": "code",
   "execution_count": 317,
   "id": "perceived-sucking",
   "metadata": {},
   "outputs": [],
   "source": [
    "# folder_path = \"/gpfs/milgram/scratch/turk-browne/elb77/Avatar/derivatives/pipeline3/sub-02\"\n",
    "# roi_nii_path = os.path.join(folder_path, f'navigation_native_labeled_cluster_sizes.nii.gz')\n",
    "\n",
    "# nii_files = [\n",
    "#     'sub-01_ses-01_run-01_task-viewing.nii.gz',\n",
    "# #     'sub-01_ses-01_run-02_task-viewing.nii.gz',\n",
    "    \n",
    "# #     'sub-02_ses-01_run-01_task-viewing.nii.gz',\n",
    "# #     'sub-02_ses-01_run-02_task-viewing.nii.gz',\n",
    "# ]\n",
    "\n",
    "# nii_file_paths = [os.path.join(folder_path, f) for f in nii_files]\n",
    "# cluster_id = 595\n",
    "# roi_nii = nib.load(roi_nii_path)\n",
    "\n",
    "# voxel_arr = []\n",
    "# labels = []\n",
    "\n",
    "# for idx, nii_file_path in enumerate(nii_file_paths):\n",
    "#     voxel_nii = nib.load(nii_file_path)\n",
    "#     voxels = mask_ROI_cluster(roi_nii, voxel_nii, cluster_ind=cluster_id, do_zscore=True)\n",
    "    \n",
    "#     print('PCA Preprocessing...')\n",
    "#     voxels = np.nan_to_num(voxels, nan=0.0)\n",
    "#     pca_operator = sklearn.decomposition.PCA(n_components=50)\n",
    "#     voxels = pca_operator.fit_transform(voxels)\n",
    "    \n",
    "#     voxel_arr.append(voxels)\n",
    "\n",
    "#     run_id = get_run_id(nii_file_path)\n",
    "#     run_labels = [run_id] * voxels.shape[0]\n",
    "#     labels.extend(run_labels)\n",
    "#     print(f'Run ID: {run_id} -- {voxels.shape}') \n",
    "\n",
    "# dataset = np.concatenate(voxel_arr, axis=0)"
   ]
  },
  {
   "cell_type": "code",
   "execution_count": 318,
   "id": "prerequisite-metallic",
   "metadata": {},
   "outputs": [],
   "source": [
    "# plt.figure(figsize=(18, 20))\n",
    "# plt.imshow(dataset[:3,:])"
   ]
  },
  {
   "cell_type": "code",
   "execution_count": 319,
   "id": "adopted-wages",
   "metadata": {},
   "outputs": [],
   "source": [
    "# import phate\n",
    "\n",
    "# def phate_2d(arr_2d, frame_tuples):\n",
    "#     plt.figure(figsize=(12,10))\n",
    "#     plt.scatter(arr_2d[:,0], arr_2d[:,1], c=list(range(arr_2d.shape[0])), cmap='gray', vmin=0, vmax=arr_2d.shape[0])\n",
    "    \n",
    "#     for idx, direction in frame_tuples:\n",
    "#         if direction == 'R':\n",
    "#             plt.plot(arr_2d[idx,0], arr_2d[idx,1], marker = 'o', color='cyan')\n",
    "#         else:\n",
    "#             plt.plot(arr_2d[idx,0], arr_2d[idx,1], marker = 'o', color='magenta')\n",
    "            \n",
    "#     plt.colorbar()\n",
    "#     plt.show()\n",
    "\n",
    "# def phate_3d(arr_3d, frame_tuples, rotation=0):\n",
    "#     fig = plt.figure(figsize=(12,10))\n",
    "#     ax = fig.add_subplot(111, projection='3d')\n",
    "#     plot = ax.scatter(arr_3d[:,0], arr_3d[:,1], arr_3d[:,2], \n",
    "#                       c=list(range(arr_3d.shape[0])), cmap='gray', vmin=0, vmax=arr_3d.shape[0])\n",
    "    \n",
    "#     for idx, direction in frame_tuples:\n",
    "#         if direction == 'R':\n",
    "#             plt.plot(arr_3d[idx,0], arr_3d[idx,1], arr_3d[idx,2], marker = 'o', color='cyan')\n",
    "#         else:\n",
    "#             plt.plot(arr_3d[idx,0], arr_3d[idx,1], arr_3d[idx,2], marker = 'o', color='magenta')\n",
    "\n",
    "#     ax.view_init(30, rotation)\n",
    "#     plt.colorbar(plot)\n",
    "#     plt.show()"
   ]
  },
  {
   "cell_type": "code",
   "execution_count": 320,
   "id": "compound-testament",
   "metadata": {
    "scrolled": true
   },
   "outputs": [],
   "source": [
    "# phate_operator = phate.PHATE()\n",
    "# phate_emb2 = phate_operator.fit_transform(dataset)"
   ]
  },
  {
   "cell_type": "code",
   "execution_count": 321,
   "id": "corrected-supplier",
   "metadata": {},
   "outputs": [],
   "source": [
    "# phate_2d(phate_emb2, frame_tuples)"
   ]
  },
  {
   "cell_type": "code",
   "execution_count": 322,
   "id": "demographic-sensitivity",
   "metadata": {},
   "outputs": [],
   "source": [
    "# phate_operator.set_params(n_components=3)\n",
    "# phate_emb3 = phate_operator.transform()"
   ]
  },
  {
   "cell_type": "code",
   "execution_count": 323,
   "id": "afraid-second",
   "metadata": {},
   "outputs": [],
   "source": [
    "# phate_3d(phate_emb3, frame_tuples, rotation=30)"
   ]
  },
  {
   "cell_type": "markdown",
   "id": "massive-producer",
   "metadata": {},
   "source": [
    "## TPHATE"
   ]
  },
  {
   "cell_type": "code",
   "execution_count": 324,
   "id": "played-vermont",
   "metadata": {},
   "outputs": [],
   "source": [
    "import os\n",
    "import numpy as np\n",
    "import nibabel as nib\n",
    "import pickle\n",
    "import phate\n",
    "import scprep\n",
    "import scipy\n",
    "import sklearn.manifold\n",
    "import sklearn.decomposition\n",
    "import mds\n",
    "from sklearn.manifold import MDS\n",
    "import itertools\n",
    "# import umap\n",
    "import matplotlib.pyplot as plt"
   ]
  },
  {
   "cell_type": "code",
   "execution_count": 325,
   "id": "large-alarm",
   "metadata": {},
   "outputs": [],
   "source": [
    "def generate_transition_op(n_timepoints, k):\n",
    "    A = np.zeros((n_timepoints, n_timepoints))\n",
    "    \n",
    "    norm_factor = sum([np.e**(-k) for k in range(1, k)])\n",
    "    \n",
    "    for i in range(n_timepoints):\n",
    "        connected_f = list(range(i + 1, min(n_timepoints, i + k + 1)))\n",
    "        connected_b = list(range(max(0, i - k), i))\n",
    "        for j in connected_b + connected_f:\n",
    "            A[j, i] = np.e**(-np.abs(i - j))\n",
    "  \n",
    "    P = A / np.sum(A, axis=0)\n",
    "    return P\n",
    "\n",
    "def tphate(data, t, k, n_components, mds_alg='smacof'):\n",
    "    print(\"generating transition diffusion operator...\")\n",
    "    P_transition = generate_transition_op(data.shape[0], k)\n",
    "\n",
    "    print(\"generated PHATE diffusion operator...\")\n",
    "    phate_op = phate.PHATE(n_jobs=-1, verbose=0)\n",
    "    phate_op.fit(data)\n",
    "    diff_op = np.matrix(phate_op.diff_op)\n",
    " \n",
    "    P = np.matmul(diff_op.T, P_transition)\n",
    "    K = np.linalg.matrix_power(P, t)\n",
    "    K = np.log(K + 1e-7)\n",
    "    K = np.nan_to_num(K, nan=0.0).T\n",
    "    \n",
    "    print(n_components)\n",
    "\n",
    "    print(\"running MDS...\")\n",
    "    embedding = mds.embed_MDS(K, ndim=n_components, how='metric', n_jobs=-1, solver=mds_alg)\n",
    "    \n",
    "#     mds = sklearn.manifold.MDS(n_components=n_components, metric=True, n_jobs=-1)\n",
    "#     embedding = mds.fit_transform(K)\n",
    "    \n",
    "    \n",
    "    return embedding, P"
   ]
  },
  {
   "cell_type": "code",
   "execution_count": 326,
   "id": "parliamentary-concentrate",
   "metadata": {},
   "outputs": [
    {
     "name": "stdout",
     "output_type": "stream",
     "text": [
      "PCA Preprocessing...\n",
      "Run ID: 1 -- (173, 100)\n"
     ]
    }
   ],
   "source": [
    "folder_path = \"/gpfs/milgram/scratch/turk-browne/elb77/Avatar/derivatives/pipeline3/sub-01\"\n",
    "roi_nii_path = os.path.join(folder_path, f'navigation_native_labeled_cluster_sizes.nii.gz')\n",
    "\n",
    "nii_files = [\n",
    "    'sub-01_ses-01_run-01_task-viewing.nii.gz',\n",
    "#     'sub-01_ses-01_run-02_task-viewing.nii.gz',\n",
    "    \n",
    "#     'sub-02_ses-01_run-01_task-viewing.nii.gz',\n",
    "#     'sub-02_ses-01_run-02_task-viewing.nii.gz',\n",
    "]\n",
    "\n",
    "nii_file_paths = [os.path.join(folder_path, f) for f in nii_files]\n",
    "cluster_id = 120\n",
    "roi_nii = nib.load(roi_nii_path)\n",
    "\n",
    "voxel_arr = []\n",
    "labels = []\n",
    "\n",
    "for idx, nii_file_path in enumerate(nii_file_paths):\n",
    "    voxel_nii = nib.load(nii_file_path)\n",
    "    voxels = mask_ROI_cluster(roi_nii, voxel_nii, cluster_ind=cluster_id, do_zscore=True)\n",
    "    \n",
    "    print('PCA Preprocessing...')\n",
    "    voxels = np.nan_to_num(voxels, nan=0.0)\n",
    "    pca_operator = sklearn.decomposition.PCA(n_components=100)\n",
    "    voxels = pca_operator.fit_transform(voxels)\n",
    "    \n",
    "    voxel_arr.append(voxels)\n",
    "\n",
    "    run_id = get_run_id(nii_file_path)\n",
    "    run_labels = [run_id] * voxels.shape[0]\n",
    "    labels.extend(run_labels)\n",
    "    print(f'Run ID: {run_id} -- {voxels.shape}') \n",
    "\n",
    "fmri = np.concatenate(voxel_arr, axis=0)"
   ]
  },
  {
   "cell_type": "code",
   "execution_count": 327,
   "id": "charming-ceremony",
   "metadata": {},
   "outputs": [
    {
     "data": {
      "text/plain": [
       "(173, 100)"
      ]
     },
     "execution_count": 327,
     "metadata": {},
     "output_type": "execute_result"
    }
   ],
   "source": [
    "fmri.shape"
   ]
  },
  {
   "cell_type": "code",
   "execution_count": 328,
   "id": "signed-heater",
   "metadata": {
    "scrolled": false
   },
   "outputs": [
    {
     "name": "stdout",
     "output_type": "stream",
     "text": [
      "generating transition diffusion operator...\n",
      "generated PHATE diffusion operator...\n",
      "20\n",
      "running MDS...\n",
      "computing first eigenvector of P\n"
     ]
    },
    {
     "data": {
      "text/plain": [
       "<Axes3DSubplot:title={'center':'Run 1 T-PHATE Diff Op Eigenvector'}, xlabel='T-PHATE1', ylabel='T-PHATE2'>"
      ]
     },
     "execution_count": 328,
     "metadata": {},
     "output_type": "execute_result"
    },
    {
     "data": {
      "image/png": "[encoded data removed]",
      "text/plain": [
       "<Figure size 576x504 with 2 Axes>"
      ]
     },
     "metadata": {
      "needs_background": "light"
     },
     "output_type": "display_data"
    }
   ],
   "source": [
    "embedding, P = tphate(fmri, 10, 5, 20)\n",
    "\n",
    "print('computing first eigenvector of P')\n",
    "w, v = scipy.sparse.linalg.eigs(P.T, k=1, which='LM')\n",
    "v = np.real(v)\n",
    "\n",
    "plot_title = f\"Run 1 T-PHATE Diff Op Eigenvector\"\n",
    "# plot_filename = f\"plots/{patient_id}_timeseries_tphate.png\"\n",
    "scprep.plot.scatter3d(embedding,\n",
    "                      c=v[:,0],\n",
    "                      title=plot_title,\n",
    "#                       filename=plot_filename,\n",
    "                      s=15,\n",
    "                      ticks=False,\n",
    "                      label_prefix=\"T-PHATE\",\n",
    "                      figsize=(8,7))"
   ]
  },
  {
   "cell_type": "code",
   "execution_count": 329,
   "id": "applicable-attention",
   "metadata": {},
   "outputs": [],
   "source": [
    "# match direction tuples with fmri embeddings\n",
    "outputs = np.full((embedding.shape[0], 1), -1)\n",
    "dataset = embedding\n",
    "# dataset = np.append(embedding, v, axis=1)\n",
    "dataset = np.append(dataset, outputs, axis=1)"
   ]
  },
  {
   "cell_type": "code",
   "execution_count": 330,
   "id": "proprietary-blair",
   "metadata": {},
   "outputs": [
    {
     "data": {
      "text/plain": [
       "(173, 20)"
      ]
     },
     "execution_count": 330,
     "metadata": {},
     "output_type": "execute_result"
    }
   ],
   "source": [
    "embedding.shape"
   ]
  },
  {
   "cell_type": "code",
   "execution_count": 331,
   "id": "diagnostic-paris",
   "metadata": {},
   "outputs": [
    {
     "data": {
      "text/plain": [
       "173"
      ]
     },
     "execution_count": 331,
     "metadata": {},
     "output_type": "execute_result"
    }
   ],
   "source": [
    "len_run_1 = len([x for x in labels if x==1])\n",
    "len_run_1"
   ]
  },
  {
   "cell_type": "code",
   "execution_count": 332,
   "id": "civil-pitch",
   "metadata": {},
   "outputs": [],
   "source": [
    "for frame_tuple in frame_tuples:\n",
    "    run_id, idx, direct = frame_tuple\n",
    "    if run_id == 2:\n",
    "#         idx += len_run_1\n",
    "        continue\n",
    "        \n",
    "    if direct == 'L':\n",
    "        dataset[idx, -1] = 0\n",
    "    elif direct == 'R':\n",
    "        dataset[idx, -1] = 1"
   ]
  },
  {
   "cell_type": "code",
   "execution_count": 333,
   "id": "naked-concentration",
   "metadata": {},
   "outputs": [],
   "source": [
    "# extract embeddings of interest \n",
    "mask = dataset[:, -1] != -1\n",
    "masked_data = dataset[mask]"
   ]
  },
  {
   "cell_type": "code",
   "execution_count": 334,
   "id": "increased-checkout",
   "metadata": {},
   "outputs": [],
   "source": [
    "X = masked_data[:, :-1]\n",
    "y = masked_data[:, -1]"
   ]
  },
  {
   "cell_type": "code",
   "execution_count": 335,
   "id": "wired-average",
   "metadata": {},
   "outputs": [],
   "source": [
    "## prediction model\n",
    "from sklearn.model_selection import train_test_split\n",
    "from sklearn.linear_model import SGDClassifier\n",
    "from sklearn.svm import SVC\n",
    "from sklearn.preprocessing import StandardScaler\n",
    "from sklearn.pipeline import make_pipeline\n",
    "\n",
    "# X_train, X_test = X[:38], X[38:]\n",
    "# y_train, y_test = y[:38], y[38:]\n",
    "\n",
    "X_train, X_test, y_train, y_test = train_test_split(X, y, test_size=0.30)"
   ]
  },
  {
   "cell_type": "code",
   "execution_count": 336,
   "id": "czech-nylon",
   "metadata": {},
   "outputs": [],
   "source": [
    "clf = make_pipeline(StandardScaler(), SGDClassifier(max_iter=1000, tol=1e-3))\n",
    "# clf = make_pipeline(StandardScaler(), SVC(gamma='auto'))"
   ]
  },
  {
   "cell_type": "code",
   "execution_count": 337,
   "id": "ceramic-visit",
   "metadata": {},
   "outputs": [
    {
     "data": {
      "text/plain": [
       "Pipeline(steps=[('standardscaler', StandardScaler()),\n",
       "                ('sgdclassifier', SGDClassifier())])"
      ]
     },
     "execution_count": 337,
     "metadata": {},
     "output_type": "execute_result"
    }
   ],
   "source": [
    "clf.fit(X_train, y_train)"
   ]
  },
  {
   "cell_type": "code",
   "execution_count": 338,
   "id": "narrow-humidity",
   "metadata": {},
   "outputs": [
    {
     "data": {
      "text/plain": [
       "array([0., 0., 1., 0., 1., 0., 1., 0., 0., 1., 1., 1.])"
      ]
     },
     "execution_count": 338,
     "metadata": {},
     "output_type": "execute_result"
    }
   ],
   "source": [
    "pred = clf.predict(X_test)\n",
    "pred"
   ]
  },
  {
   "cell_type": "code",
   "execution_count": 339,
   "id": "sweet-package",
   "metadata": {},
   "outputs": [
    {
     "data": {
      "text/plain": [
       "array([1., 0., 0., 0., 1., 0., 0., 1., 1., 1., 1., 0.])"
      ]
     },
     "execution_count": 339,
     "metadata": {},
     "output_type": "execute_result"
    }
   ],
   "source": [
    "y_test"
   ]
  },
  {
   "cell_type": "code",
   "execution_count": 340,
   "id": "running-reynolds",
   "metadata": {},
   "outputs": [
    {
     "data": {
      "text/plain": [
       "0.5"
      ]
     },
     "execution_count": 340,
     "metadata": {},
     "output_type": "execute_result"
    }
   ],
   "source": [
    "# accuracy\n",
    "np.count_nonzero(pred == y_test) / y_test.shape[0]"
   ]
  },
  {
   "cell_type": "code",
   "execution_count": null,
   "id": "efficient-substitute",
   "metadata": {},
   "outputs": [],
   "source": []
  }
 ],
 "metadata": {
  "kernelspec": {
   "display_name": "Python 3",
   "language": "python",
   "name": "python3"
  },
  "language_info": {
   "codemirror_mode": {
    "name": "ipython",
    "version": 3
   },
   "file_extension": ".py",
   "mimetype": "text/x-python",
   "name": "python",
   "nbconvert_exporter": "python",
   "pygments_lexer": "ipython3",
   "version": "3.9.2"
  }
 },
 "nbformat": 4,
 "nbformat_minor": 5
}
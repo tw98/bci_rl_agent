{
 "cells": [
  {
   "cell_type": "code",
   "execution_count": 1,
   "id": "spectacular-suicide",
   "metadata": {},
   "outputs": [],
   "source": [
    "import argparse\n",
    "import os\n",
    "import glob\n",
    "import random\n",
    "import numpy as np\n",
    "import matplotlib.pyplot as plt"
   ]
  },
  {
   "cell_type": "code",
   "execution_count": 29,
   "id": "lined-smooth",
   "metadata": {},
   "outputs": [
    {
     "name": "stdout",
     "output_type": "stream",
     "text": [
      "Cluster Labels: [ 120  138  153  163  201  283  595  645  894 3026]\n"
     ]
    }
   ],
   "source": [
    "### load data\n",
    "# from data_loader import DataLoader\n",
    "\n",
    "folder_path = \"/gpfs/milgram/scratch/turk-browne/elb77/Avatar/derivatives/pipeline3/sub-01\"\n",
    "roi_nii_path = os.path.join(folder_path, f'navigation_native_labeled_cluster_sizes.nii.gz')\n",
    "\n",
    "# nii_files = [\n",
    "#     'sub-01_ses-01_run-01_task-viewing.nii.gz',\n",
    "#     'sub-01_ses-01_run-02_task-viewing.nii.gz',\n",
    "#     'sub-01_ses-01_run-03_task-viewing.nii.gz',\n",
    "#     'sub-01_ses-01_run-04_task-viewing.nii.gz',\n",
    "#     'sub-01_ses-01_run-05_task-viewing.nii.gz',\n",
    "#     'sub-01_ses-01_run-06_task-viewing.nii.gz',\n",
    "#     'sub-01_ses-01_run-07_task-viewing.nii.gz',\n",
    "#     'sub-01_ses-01_run-08_task-viewing.nii.gz',\n",
    "# ]\n",
    "\n",
    "nii_files = glob.glob(f\"{folder_path}/*task-viewing.nii.gz\")\n",
    "nii_files.sort()\n",
    "\n",
    "loader = DataLoader(voxel_nii_files=nii_files, roi_nii_path=roi_nii_path)\n",
    "\n",
    "cluster_labels = loader.get_cluster_labels()\n",
    "print(f\"Cluster Labels: {cluster_labels}\")"
   ]
  },
  {
   "cell_type": "code",
   "execution_count": 30,
   "id": "pleased-strength",
   "metadata": {},
   "outputs": [
    {
     "data": {
      "text/plain": [
       "['/gpfs/milgram/scratch/turk-browne/elb77/Avatar/derivatives/pipeline3/sub-01/sub-01_ses-01_run-01_task-viewing.nii.gz',\n",
       " '/gpfs/milgram/scratch/turk-browne/elb77/Avatar/derivatives/pipeline3/sub-01/sub-01_ses-01_run-02_task-viewing.nii.gz',\n",
       " '/gpfs/milgram/scratch/turk-browne/elb77/Avatar/derivatives/pipeline3/sub-01/sub-01_ses-01_run-03_task-viewing.nii.gz',\n",
       " '/gpfs/milgram/scratch/turk-browne/elb77/Avatar/derivatives/pipeline3/sub-01/sub-01_ses-01_run-04_task-viewing.nii.gz',\n",
       " '/gpfs/milgram/scratch/turk-browne/elb77/Avatar/derivatives/pipeline3/sub-01/sub-01_ses-01_run-05_task-viewing.nii.gz',\n",
       " '/gpfs/milgram/scratch/turk-browne/elb77/Avatar/derivatives/pipeline3/sub-01/sub-01_ses-01_run-06_task-viewing.nii.gz',\n",
       " '/gpfs/milgram/scratch/turk-browne/elb77/Avatar/derivatives/pipeline3/sub-01/sub-01_ses-01_run-07_task-viewing.nii.gz',\n",
       " '/gpfs/milgram/scratch/turk-browne/elb77/Avatar/derivatives/pipeline3/sub-01/sub-01_ses-01_run-08_task-viewing.nii.gz']"
      ]
     },
     "execution_count": 30,
     "metadata": {},
     "output_type": "execute_result"
    }
   ],
   "source": [
    "nii_files"
   ]
  },
  {
   "cell_type": "code",
   "execution_count": 33,
   "id": "pharmaceutical-processing",
   "metadata": {},
   "outputs": [
    {
     "name": "stdout",
     "output_type": "stream",
     "text": [
      "Try loading dataset from existing file: data__cluster-595_prevstates-2.npy\n",
      "No existing file found\n",
      "loading data from /gpfs/milgram/scratch/turk-browne/elb77/Avatar/derivatives/pipeline3/sub-01/sub-01_ses-01_run-01_task-viewing.nii.gz...\n",
      "(173, 595)\n",
      "[0, 173]\n",
      "[1]\n",
      "1\n",
      "173\n",
      "loading data from /gpfs/milgram/scratch/turk-browne/elb77/Avatar/derivatives/pipeline3/sub-01/sub-01_ses-01_run-02_task-viewing.nii.gz...\n",
      "(197, 595)\n",
      "[0, 173, 370]\n",
      "[1, 2]\n",
      "2\n",
      "370\n",
      "loading data from /gpfs/milgram/scratch/turk-browne/elb77/Avatar/derivatives/pipeline3/sub-01/sub-01_ses-01_run-03_task-viewing.nii.gz...\n",
      "(189, 595)\n",
      "[0, 173, 370, 559]\n",
      "[1, 2, 3]\n",
      "3\n",
      "559\n",
      "loading data from /gpfs/milgram/scratch/turk-browne/elb77/Avatar/derivatives/pipeline3/sub-01/sub-01_ses-01_run-04_task-viewing.nii.gz...\n",
      "(243, 595)\n",
      "[0, 173, 370, 559, 802]\n",
      "[1, 2, 3, 4]\n",
      "4\n",
      "802\n",
      "loading data from /gpfs/milgram/scratch/turk-browne/elb77/Avatar/derivatives/pipeline3/sub-01/sub-01_ses-01_run-05_task-viewing.nii.gz...\n",
      "(192, 595)\n",
      "[0, 173, 370, 559, 802, 994]\n",
      "[1, 2, 3, 4, 5]\n",
      "5\n",
      "994\n",
      "loading data from /gpfs/milgram/scratch/turk-browne/elb77/Avatar/derivatives/pipeline3/sub-01/sub-01_ses-01_run-06_task-viewing.nii.gz...\n",
      "(270, 595)\n",
      "[0, 173, 370, 559, 802, 994, 1264]\n",
      "[1, 2, 3, 4, 5, 6]\n",
      "6\n",
      "1264\n",
      "loading data from /gpfs/milgram/scratch/turk-browne/elb77/Avatar/derivatives/pipeline3/sub-01/sub-01_ses-01_run-07_task-viewing.nii.gz...\n",
      "(226, 595)\n",
      "[0, 173, 370, 559, 802, 994, 1264, 1490]\n",
      "[1, 2, 3, 4, 5, 6, 7]\n",
      "7\n",
      "1490\n",
      "loading data from /gpfs/milgram/scratch/turk-browne/elb77/Avatar/derivatives/pipeline3/sub-01/sub-01_ses-01_run-08_task-viewing.nii.gz...\n",
      "(219, 595)\n",
      "[0, 173, 370, 559, 802, 994, 1264, 1490, 1709]\n",
      "[1, 2, 3, 4, 5, 6, 7, 8]\n",
      "8\n",
      "1709\n",
      "(1709, 595)\n",
      "PCA Preprocessing...\n",
      "Created dataset of size: (1693, 4, 50)\n"
     ]
    }
   ],
   "source": [
    "n_prev_states = 2\n",
    "cluster_id = 595\n",
    "\n",
    "dataset_file = f\"data__cluster-{cluster_id}_prevstates-{n_prev_states}.npy\"\n",
    "save_data = False\n",
    "\n",
    "try:\n",
    "    print(f\"Try loading dataset from existing file: {dataset_file}\")\n",
    "\n",
    "    with open(dataset_file, 'rb') as f:\n",
    "        dataset = np.load(f)\n",
    "\n",
    "    print(\"Loaded dataset from existing file\")\n",
    "\n",
    "except FileNotFoundError:\n",
    "    print(\"No existing file found\")\n",
    "    nii_file_paths = [os.path.join(folder_path, f) for f in nii_files]\n",
    "\n",
    "    dataset_file = loader.get_state_dataset2(cluster_id=cluster_id, n_prev_states=n_prev_states, \n",
    "                                            run_ids=True, do_pca=True)\n",
    "\n",
    "    print(f\"Created dataset of size: {dataset_file.shape}\")\n",
    "\n",
    "    if save_data:\n",
    "        with open(dataset_file, 'wb') as f:\n",
    "            np.save(f, dataset)"
   ]
  },
  {
   "cell_type": "code",
   "execution_count": 34,
   "id": "fluid-barrier",
   "metadata": {},
   "outputs": [
    {
     "data": {
      "text/plain": [
       "<matplotlib.image.AxesImage at 0x2adba665b1f0>"
      ]
     },
     "execution_count": 34,
     "metadata": {},
     "output_type": "execute_result"
    },
    {
     "data": {
      "image/png": "[encoded data removed]",
      "text/plain": [
       "<Figure size 1296x1440 with 1 Axes>"
      ]
     },
     "metadata": {
      "needs_background": "light"
     },
     "output_type": "display_data"
    }
   ],
   "source": [
    "plt.figure(figsize=(18, 20))\n",
    "plt.imshow(dataset_file[4,:, :])"
   ]
  },
  {
   "cell_type": "code",
   "execution_count": 35,
   "id": "hourly-wales",
   "metadata": {},
   "outputs": [],
   "source": [
    "# extract run id\n",
    "# split dataset into input and target data\n",
    "data_prev_states = []\n",
    "data_targets = []\n",
    "run_ids = []\n",
    "for example in dataset_file:\n",
    "    run_id = example[0,0]\n",
    "    run_ids.append(run_id)\n",
    "    \n",
    "    prev_states = example[1:-1,:]\n",
    "    data_prev_states.append(prev_states)\n",
    "    \n",
    "    target = example[-1,:]\n",
    "    data_targets.append(target)\n",
    "\n",
    "run_ids = np.array(run_ids)\n",
    "data_prev_states = np.array(data_prev_states)\n",
    "data_targets = np.array(data_targets)"
   ]
  },
  {
   "cell_type": "code",
   "execution_count": 36,
   "id": "afraid-completion",
   "metadata": {},
   "outputs": [
    {
     "name": "stdout",
     "output_type": "stream",
     "text": [
      " Number of examples in dataset 1693\n",
      " Number of previous states: 2\n",
      " Number of Voxel per State: 50\n"
     ]
    }
   ],
   "source": [
    "n_examples = data_prev_states.shape[0]\n",
    "n_prev_states = data_prev_states.shape[1]\n",
    "n_voxels = data_prev_states.shape[2]\n",
    "\n",
    "print(f' Number of examples in dataset {n_examples}') \n",
    "print(f' Number of previous states: {n_prev_states}')\n",
    "print(f' Number of Voxel per State: {n_voxels}')"
   ]
  },
  {
   "cell_type": "markdown",
   "id": "rolled-disco",
   "metadata": {},
   "source": [
    "### train and test data separation"
   ]
  },
  {
   "cell_type": "code",
   "execution_count": 37,
   "id": "foster-triangle",
   "metadata": {},
   "outputs": [
    {
     "name": "stdout",
     "output_type": "stream",
     "text": [
      "(1476, 3, 50)\n",
      "(217, 3, 50)\n"
     ]
    }
   ],
   "source": [
    "# split dataset into train set and test set\n",
    "\n",
    "dataset = dataset_file[:, 1:, :]\n",
    "\n",
    "from sklearn.model_selection import train_test_split\n",
    "\n",
    "\n",
    "def leave_out_run(test_id, run_ids, dataset):\n",
    "    mask = (run_ids == test_id)\n",
    "    trainset = dataset[~mask]\n",
    "    testset = dataset[mask]\n",
    "    return trainset, testset\n",
    "\n",
    "\n",
    "# trainset, testset = train_test_split(dataset, test_size=0.2)\n",
    "\n",
    "test_run = 8.0\n",
    "trainset, testset = leave_out_run(test_run, run_ids, dataset)\n",
    "trainset_prev, testset_prev = leave_out_run(test_run, run_ids, data_prev_states)\n",
    "\n",
    "print(trainset.shape)\n",
    "print(testset.shape)"
   ]
  },
  {
   "cell_type": "markdown",
   "id": "thick-valve",
   "metadata": {},
   "source": [
    "### NETWORK IMPLEMENTATION"
   ]
  },
  {
   "cell_type": "code",
   "execution_count": 75,
   "id": "legal-iraqi",
   "metadata": {},
   "outputs": [],
   "source": [
    "import torch\n",
    "import torch.nn as nn\n",
    "import torch.nn.parallel\n",
    "import torch.backends.cudnn as cudnn\n",
    "import torch.optim as optim\n",
    "import torch.utils.data\n",
    "import torchvision.transforms as transforms\n",
    "import torchvision.utils as vutils"
   ]
  },
  {
   "cell_type": "code",
   "execution_count": 76,
   "id": "signed-province",
   "metadata": {},
   "outputs": [
    {
     "name": "stdout",
     "output_type": "stream",
     "text": [
      "Input Dim: 100 -- Output Dim: 50\n"
     ]
    }
   ],
   "source": [
    "input_dim = n_prev_states * n_voxels\n",
    "output_dim = n_voxels\n",
    "print(f'Input Dim: {input_dim} -- Output Dim: {output_dim}')\n",
    "\n",
    "# Number of workers for dataloader\n",
    "workers = 1\n",
    "\n",
    "# Batch size during training\n",
    "batch_size = 64\n",
    "# Number of training epochs\n",
    "num_epochs = 30\n",
    "# Learning rate for optimizers\n",
    "lr = 0.0002\n",
    "# Beta1 hyperparam for Adam optimizers\n",
    "beta1 = 0.5\n",
    "\n",
    "# Number of GPUs available. Use 0 for CPU mode.\n",
    "n_gpu = 0"
   ]
  },
  {
   "cell_type": "code",
   "execution_count": 77,
   "id": "psychological-canberra",
   "metadata": {},
   "outputs": [],
   "source": [
    "# Create the dataloader\n",
    "train_loader = torch.utils.data.DataLoader(trainset, batch_size=batch_size, shuffle=True, num_workers=workers)\n",
    "test_loader = torch.utils.data.DataLoader(testset, batch_size=batch_size, shuffle=True, num_workers=workers)\n",
    "\n",
    "# Decide which device we want to run on\n",
    "device = torch.device(\"cuda:0\" if (torch.cuda.is_available() and ngpu > 0) else \"cpu\")"
   ]
  },
  {
   "cell_type": "code",
   "execution_count": 78,
   "id": "endless-tattoo",
   "metadata": {},
   "outputs": [],
   "source": [
    "class Network(nn.Module):\n",
    "    def __init__(self, input_dim, output_dim):\n",
    "        super(Network, self).__init__()\n",
    "        \n",
    "        self.input_dim = input_dim\n",
    "        self.output_dim = output_dim\n",
    "        self.hidden1 = 128\n",
    "        self.hidden2 = 128\n",
    "        self.hidden3 = 128\n",
    "        self.hidden4 = 128\n",
    "        self.hidden5 = 30\n",
    "        self.hidden6 = 30\n",
    "        \n",
    "        self.model = nn.Sequential(\n",
    "            nn.Linear(input_dim, self.hidden1),\n",
    "            nn.LeakyReLU(),\n",
    "            nn.Linear(self.hidden1, self.hidden2),\n",
    "            nn.LeakyReLU(),\n",
    "            nn.Linear(self.hidden2, self.hidden3),\n",
    "            nn.LeakyReLU(),\n",
    "            nn.Linear(self.hidden3, output_dim),\n",
    "        )\n",
    "        \n",
    "#         self.model = nn.Sequential(\n",
    "#             nn.Linear(input_dim, self.hidden1),\n",
    "#             nn.LeakyReLU(),\n",
    "#             nn.Linear(self.hidden1, self.hidden2),\n",
    "#             nn.LeakyReLU(),\n",
    "#             nn.Linear(self.hidden2, self.hidden3),\n",
    "#             nn.LeakyReLU(),\n",
    "#             nn.Linear(self.hidden3, self.hidden4),\n",
    "#             nn.LeakyReLU(),\n",
    "#             nn.Linear(self.hidden4, output_dim),\n",
    "#         )\n",
    "\n",
    "    def forward(self, x):\n",
    "        return self.model(x)"
   ]
  },
  {
   "cell_type": "code",
   "execution_count": 79,
   "id": "increasing-pixel",
   "metadata": {},
   "outputs": [
    {
     "name": "stdout",
     "output_type": "stream",
     "text": [
      "Network(\n",
      "  (model): Sequential(\n",
      "    (0): Linear(in_features=100, out_features=128, bias=True)\n",
      "    (1): LeakyReLU(negative_slope=0.01)\n",
      "    (2): Linear(in_features=128, out_features=128, bias=True)\n",
      "    (3): LeakyReLU(negative_slope=0.01)\n",
      "    (4): Linear(in_features=128, out_features=128, bias=True)\n",
      "    (5): LeakyReLU(negative_slope=0.01)\n",
      "    (6): Linear(in_features=128, out_features=50, bias=True)\n",
      "  )\n",
      ")\n"
     ]
    }
   ],
   "source": [
    "net = Network(input_dim, output_dim).to(device)\n",
    "\n",
    "# Print the model\n",
    "print(net)"
   ]
  },
  {
   "cell_type": "code",
   "execution_count": 80,
   "id": "pleasant-cause",
   "metadata": {},
   "outputs": [],
   "source": [
    "criterion = nn.MSELoss()\n",
    "\n",
    "# Setup Adam optimizers\n",
    "optimizer = optim.Adam(net.parameters(), lr=lr, betas=(beta1, 0.999))"
   ]
  },
  {
   "cell_type": "code",
   "execution_count": 81,
   "id": "super-account",
   "metadata": {},
   "outputs": [
    {
     "data": {
      "text/plain": [
       "217"
      ]
     },
     "execution_count": 81,
     "metadata": {},
     "output_type": "execute_result"
    }
   ],
   "source": [
    "# for idx, batch in enumerate(train_loader):\n",
    "#     # Format batch\n",
    "#     prev_states = torch.flatten(batch[:, :-1, :], start_dim=1).to(device)\n",
    "#     targets = batch[:, -1, :].to(device)\n",
    "#     print(prev_states.shape)\n",
    "#     print(targets.shape)\n",
    "\n",
    "len(test_loader.dataset)"
   ]
  },
  {
   "cell_type": "code",
   "execution_count": 82,
   "id": "funny-company",
   "metadata": {},
   "outputs": [],
   "source": [
    "train_losses = []\n",
    "test_losses = []\n",
    "\n",
    "def get_model_performance(epoch):\n",
    "    net.eval()\n",
    "    with torch.no_grad():\n",
    "        sum_err_train = 0\n",
    "        for idx, batch in enumerate(train_loader):\n",
    "            # Format batch\n",
    "            prev_states = torch.flatten(batch[:, :-1, :].float(), start_dim=1).to(device)\n",
    "            targets = batch[:, -1, :].to(device)\n",
    "            # Forward pass\n",
    "            output = net(prev_states)\n",
    "            err = criterion(output, targets).item()\n",
    "            sum_err_train += err\n",
    "        \n",
    "        train_mse = sum_err_train / len(train_loader.dataset)\n",
    "        train_losses.append(train_mse)\n",
    "        \n",
    "        sum_err_test = 0\n",
    "        for idx, batch in enumerate(test_loader):\n",
    "            # Format batch\n",
    "            prev_states = torch.flatten(batch[:, :-1, :].float(), start_dim=1).to(device)\n",
    "            targets = batch[:, -1, :].to(device)\n",
    "            # Forward pass\n",
    "            output = net(prev_states)\n",
    "            err = criterion(output, targets).item()\n",
    "            sum_err_test += err\n",
    "            \n",
    "        test_mse = sum_err_test / len(test_loader.dataset)\n",
    "        test_losses.append(test_mse)\n",
    "    \n",
    "#     print(sum_err_train)\n",
    "#     print(sum_err_test)\n",
    "    print(f'EPOCH {epoch} -- Average Train MSE: {round(train_mse, 4)} -- Average Test MSE: {round(test_mse, 4)}')\n",
    "    net.train()\n",
    "\n",
    "# Training Loop\n",
    "def train():\n",
    "    print(\"Starting Training Loop...\")\n",
    "    \n",
    "    # Lists to keep track of progress\n",
    "    losses = []\n",
    "\n",
    "    # For each epoch\n",
    "    get_model_performance(0)\n",
    "    \n",
    "    for epoch in range(1, num_epochs+1):\n",
    "        net.train()\n",
    "        \n",
    "        # For each batch in the dataloader\n",
    "        for idx, batch in enumerate(train_loader):\n",
    "\n",
    "            # Format batch\n",
    "            prev_states = torch.flatten(batch[:, :-1, :].float(), start_dim=1).to(device)\n",
    "            targets = batch[:, -1, :].float().to(device)\n",
    "            \n",
    "            # Forward pass\n",
    "            output = net(prev_states)\n",
    "\n",
    "            net.zero_grad()\n",
    "            # Calculate networks's loss based on targets\n",
    "            err = criterion(output, targets)\n",
    "            # Calculate gradients for network\n",
    "            err.backward()\n",
    "        \n",
    "            # Update G\n",
    "            optimizer.step()\n",
    "            \n",
    "        get_model_performance(epoch)\n",
    "    \n",
    "    return\n",
    "\n"
   ]
  },
  {
   "cell_type": "code",
   "execution_count": 83,
   "id": "everyday-enemy",
   "metadata": {},
   "outputs": [
    {
     "name": "stdout",
     "output_type": "stream",
     "text": [
      "Starting Training Loop...\n",
      "EPOCH 0 -- Average Train MSE: 0.0807 -- Average Test MSE: 0.0879\n",
      "EPOCH 1 -- Average Train MSE: 0.0802 -- Average Test MSE: 0.0888\n",
      "EPOCH 2 -- Average Train MSE: 0.0773 -- Average Test MSE: 0.0879\n",
      "EPOCH 3 -- Average Train MSE: 0.0737 -- Average Test MSE: 0.0831\n",
      "EPOCH 4 -- Average Train MSE: 0.0693 -- Average Test MSE: 0.0801\n",
      "EPOCH 5 -- Average Train MSE: 0.0656 -- Average Test MSE: 0.0792\n",
      "EPOCH 6 -- Average Train MSE: 0.0609 -- Average Test MSE: 0.0778\n",
      "EPOCH 7 -- Average Train MSE: 0.0588 -- Average Test MSE: 0.0721\n",
      "EPOCH 8 -- Average Train MSE: 0.0571 -- Average Test MSE: 0.0715\n",
      "EPOCH 9 -- Average Train MSE: 0.0541 -- Average Test MSE: 0.0702\n",
      "EPOCH 10 -- Average Train MSE: 0.0534 -- Average Test MSE: 0.0696\n",
      "EPOCH 11 -- Average Train MSE: 0.0514 -- Average Test MSE: 0.0676\n",
      "EPOCH 12 -- Average Train MSE: 0.0506 -- Average Test MSE: 0.0675\n",
      "EPOCH 13 -- Average Train MSE: 0.0496 -- Average Test MSE: 0.0683\n",
      "EPOCH 14 -- Average Train MSE: 0.049 -- Average Test MSE: 0.0676\n",
      "EPOCH 15 -- Average Train MSE: 0.0483 -- Average Test MSE: 0.0701\n",
      "EPOCH 16 -- Average Train MSE: 0.0479 -- Average Test MSE: 0.0651\n",
      "EPOCH 17 -- Average Train MSE: 0.0467 -- Average Test MSE: 0.0658\n",
      "EPOCH 18 -- Average Train MSE: 0.0459 -- Average Test MSE: 0.0646\n",
      "EPOCH 19 -- Average Train MSE: 0.0456 -- Average Test MSE: 0.0653\n",
      "EPOCH 20 -- Average Train MSE: 0.0453 -- Average Test MSE: 0.0641\n",
      "EPOCH 21 -- Average Train MSE: 0.0449 -- Average Test MSE: 0.0631\n",
      "EPOCH 22 -- Average Train MSE: 0.0446 -- Average Test MSE: 0.0634\n",
      "EPOCH 23 -- Average Train MSE: 0.0435 -- Average Test MSE: 0.0626\n",
      "EPOCH 24 -- Average Train MSE: 0.0433 -- Average Test MSE: 0.0623\n",
      "EPOCH 25 -- Average Train MSE: 0.0437 -- Average Test MSE: 0.0623\n",
      "EPOCH 26 -- Average Train MSE: 0.0428 -- Average Test MSE: 0.0629\n",
      "EPOCH 27 -- Average Train MSE: 0.0423 -- Average Test MSE: 0.062\n",
      "EPOCH 28 -- Average Train MSE: 0.0423 -- Average Test MSE: 0.0624\n",
      "EPOCH 29 -- Average Train MSE: 0.0422 -- Average Test MSE: 0.0618\n",
      "EPOCH 30 -- Average Train MSE: 0.042 -- Average Test MSE: 0.0614\n"
     ]
    }
   ],
   "source": [
    "train()"
   ]
  },
  {
   "cell_type": "code",
   "execution_count": 84,
   "id": "together-investing",
   "metadata": {},
   "outputs": [
    {
     "data": {
      "text/plain": [
       "<matplotlib.legend.Legend at 0x2adbe7b83490>"
      ]
     },
     "execution_count": 84,
     "metadata": {},
     "output_type": "execute_result"
    },
    {
     "data": {
      "image/png": "[encoded data removed]",
      "text/plain": [
       "<Figure size 864x720 with 1 Axes>"
      ]
     },
     "metadata": {
      "needs_background": "light"
     },
     "output_type": "display_data"
    }
   ],
   "source": [
    "epochs = range(len(train_losses))\n",
    "plt.figure(figsize=(12,10))\n",
    "plt.plot(epochs, train_losses, label='train')\n",
    "plt.plot(epochs, test_losses, label='test')\n",
    "plt.legend()"
   ]
  },
  {
   "cell_type": "markdown",
   "id": "forbidden-might",
   "metadata": {},
   "source": [
    "# Result Analysis"
   ]
  },
  {
   "cell_type": "markdown",
   "id": "sacred-munich",
   "metadata": {},
   "source": [
    "## Compare real data and generated samples of random individual timepoints\n",
    "\n",
    "Compare the real and generated activations at the same timepoint"
   ]
  },
  {
   "cell_type": "code",
   "execution_count": 85,
   "id": "copyrighted-facility",
   "metadata": {},
   "outputs": [],
   "source": [
    "# # run 5 random samples through network\n",
    "# test_loader = torch.utils.data.DataLoader(testset, batch_size=5, shuffle=True, num_workers=workers)\n",
    "# real_batch = next(iter(test_loader))\n",
    "\n",
    "# prev_states = torch.flatten(real_batch[:, :-1, :], start_dim=1).float().to(device)\n",
    "# targets = real_batch[:, -1, :].float().to(device)\n",
    "# generated = net(prev_states).detach()\n",
    "\n",
    "# np_prev = prev_states.numpy()\n",
    "# np_targets = targets.numpy()\n",
    "# np_generated = generated.numpy()"
   ]
  },
  {
   "cell_type": "code",
   "execution_count": 86,
   "id": "expected-oxygen",
   "metadata": {},
   "outputs": [],
   "source": [
    "# def compare_activities(voxels1, voxels2):\n",
    "#     width = 0.5\n",
    "#     x1 = [x - width/2 for x in list(range(len(voxels1)))]\n",
    "#     x2 = [x + width/2 for x in list(range(len(voxels2)))]\n",
    "    \n",
    "#     fig = plt.figure(figsize=(16,14))\n",
    "#     ax = plt.subplot(111)\n",
    "    \n",
    "#     for voxels, x, col in zip([voxels1, voxels2], [x1, x2], ['r','g']):\n",
    "#         negative = voxels < 0\n",
    "#         positive = voxels > 0\n",
    "        \n",
    "#         pos = np.copy(voxels)\n",
    "#         pos[positive] = 0\n",
    "#         neg = np.copy(voxels)\n",
    "#         neg[negative] = 0\n",
    "        \n",
    "#         ax.bar(x, neg, width=width, color=col)\n",
    "#         ax.bar(x, pos, width=width, color=col)\n",
    "        \n",
    "#     plt.show()"
   ]
  },
  {
   "cell_type": "code",
   "execution_count": 87,
   "id": "bridal-burke",
   "metadata": {
    "scrolled": false
   },
   "outputs": [],
   "source": [
    "# from sklearn.metrics import mean_squared_error as mse\n",
    "\n",
    "# X = range(output_dim)\n",
    "\n",
    "# for prev, target, gen in zip(np_prev, np_targets, np_generated):\n",
    "#     print(\"===== NEW SAMPLE =====\")\n",
    "    \n",
    "#     plt.figure(figsize=(20,18))\n",
    "#     plt.title('previous states')\n",
    "#     plt.imshow(prev.reshape((2,50)))\n",
    "#     ax = plt.gca()\n",
    "#     ax.axes.yaxis.set_visible(False)\n",
    "    \n",
    "#     plt.figure(figsize=(20,18))\n",
    "#     plt.title('target')\n",
    "#     plt.imshow(target.reshape((1,50)))\n",
    "#     ax = plt.gca()\n",
    "#     ax.axes.yaxis.set_visible(False)\n",
    "    \n",
    "#     plt.figure(figsize=(20,18))\n",
    "#     plt.title('generated sample')\n",
    "#     plt.imshow(gen.reshape((1,50)))\n",
    "#     ax = plt.gca()\n",
    "#     ax.axes.yaxis.set_visible(False)\n",
    "#     plt.show()\n",
    "    \n",
    "#     compare_activities(target, gen)\n",
    "    \n",
    "#     print(f'MSE: {mse(gen, target)}')"
   ]
  },
  {
   "cell_type": "markdown",
   "id": "speaking-tutorial",
   "metadata": {},
   "source": [
    "## Compare all timepoints in test run"
   ]
  },
  {
   "cell_type": "markdown",
   "id": "controlled-might",
   "metadata": {},
   "source": [
    "### Ground Truth"
   ]
  },
  {
   "cell_type": "code",
   "execution_count": 88,
   "id": "later-arlington",
   "metadata": {},
   "outputs": [
    {
     "data": {
      "text/plain": [
       "(217, 50)"
      ]
     },
     "execution_count": 88,
     "metadata": {},
     "output_type": "execute_result"
    }
   ],
   "source": [
    "_, run_targets = leave_out_run(test_run, run_ids, data_targets)\n",
    "run_targets.shape"
   ]
  },
  {
   "cell_type": "markdown",
   "id": "cleared-settle",
   "metadata": {},
   "source": [
    "### Predicition Option 1: Given previous two real timepoints (t-2, t-1), predict timestep t"
   ]
  },
  {
   "cell_type": "code",
   "execution_count": 89,
   "id": "limited-hebrew",
   "metadata": {},
   "outputs": [],
   "source": [
    "test_loader = torch.utils.data.DataLoader(testset, batch_size=testset.shape[0], shuffle=False, num_workers=workers)\n",
    "batch = next(iter(test_loader))\n",
    "\n",
    "prev_states = torch.flatten(batch[:, :-1, :], start_dim=1).float().to(device)\n",
    "targets = batch[:, -1, :].float().to(device)\n",
    "predictions = net(prev_states).detach()\n",
    "\n",
    "pred_1 = predictions.numpy()"
   ]
  },
  {
   "cell_type": "markdown",
   "id": "female-fellowship",
   "metadata": {},
   "source": [
    "### Prediction Option 2: Feed predictions back as new input"
   ]
  },
  {
   "cell_type": "code",
   "execution_count": 90,
   "id": "fantastic-remove",
   "metadata": {},
   "outputs": [],
   "source": [
    "results = []\n",
    "\n",
    "# start with first two real timepoints\n",
    "prev_2 = testset[0, 0, :]\n",
    "prev_1 = testset[0, 1, :]\n",
    "\n",
    "for i in range(testset.shape[0]):\n",
    "    # last two predicted timesteps == new input \n",
    "    np_in = np.concatenate((prev_2, prev_1))\n",
    "    torch_in = torch.from_numpy(np_in[:])\n",
    "    \n",
    "    # predict timestep t\n",
    "    prediction = net(torch_in.float()).detach()\n",
    "    np_pred = prediction.numpy()\n",
    "    \n",
    "    results.append(np_pred[np.newaxis,:])\n",
    "    \n",
    "    # update previous\n",
    "    prev_2 = prev_1\n",
    "    prev_1 = np_pred\n",
    "    \n",
    "\n",
    "pred_2 = np.concatenate(tuple(results), axis=0)"
   ]
  },
  {
   "cell_type": "markdown",
   "id": "pharmaceutical-consumption",
   "metadata": {},
   "source": [
    "### 0. Metrics"
   ]
  },
  {
   "cell_type": "code",
   "execution_count": 91,
   "id": "advisory-mailing",
   "metadata": {},
   "outputs": [
    {
     "data": {
      "text/plain": [
       "3.3820950795161338"
      ]
     },
     "execution_count": 91,
     "metadata": {},
     "output_type": "execute_result"
    }
   ],
   "source": [
    "from sklearn.metrics import mean_squared_error\n",
    "mean_squared_error(run_targets, pred_1)"
   ]
  },
  {
   "cell_type": "code",
   "execution_count": 92,
   "id": "handy-syracuse",
   "metadata": {},
   "outputs": [
    {
     "data": {
      "text/plain": [
       "0.49817737567588194"
      ]
     },
     "execution_count": 92,
     "metadata": {},
     "output_type": "execute_result"
    }
   ],
   "source": [
    "from sklearn.metrics.pairwise import cosine_similarity\n",
    "\n",
    "_, prev_frames = leave_out_run(test_run, run_ids, data_prev_states)\n",
    "\n",
    "prev_t = prev_frames[:, 1, :]\n",
    "\n",
    "vecs_real = run_targets - prev_t\n",
    "vecs_pred = pred_1 - prev_t\n",
    "\n",
    "# for i in range(vecs_pred.shape[0]):\n",
    "#     print(cosine_similarity(vecs_real[i].reshape(1, -1), vecs_pred[i].reshape(1, -1)))\n",
    "    \n",
    "cos_sims = []\n",
    "for i in range(vecs_pred.shape[0]):\n",
    "    cos_sim = cosine_similarity(vecs_real[i].reshape(1, -1), vecs_pred[i].reshape(1, -1))\n",
    "    cos_sims.append(cos_sim)\n",
    "    \n",
    "np.mean(np.array(cos_sims))"
   ]
  },
  {
   "cell_type": "markdown",
   "id": "threatened-renaissance",
   "metadata": {},
   "source": [
    "### 1. Compare PHATE-embeddings of real data and generated samples"
   ]
  },
  {
   "cell_type": "code",
   "execution_count": 56,
   "id": "mental-launch",
   "metadata": {},
   "outputs": [],
   "source": [
    "import sklearn.decomposition # PCA\n",
    "import sklearn.manifold # t-SNE\n",
    "import phate"
   ]
  },
  {
   "cell_type": "code",
   "execution_count": 57,
   "id": "practical-arctic",
   "metadata": {},
   "outputs": [],
   "source": [
    "from matplotlib import cm\n",
    "from matplotlib.colors import ListedColormap, LinearSegmentedColormap\n",
    "top = cm.get_cmap('Oranges_r', 128)\n",
    "bottom = cm.get_cmap('Blues', 128)\n",
    "\n",
    "newcolors = np.vstack((top(np.linspace(0, 1, 128)),\n",
    "                       bottom(np.linspace(0, 1, 128))))\n",
    "newcmp = ListedColormap(newcolors, name='OrangeBlue')\n",
    "\n",
    "def phate_2d(arr_2d):\n",
    "    plt.figure(figsize=(12,10))\n",
    "    plt.scatter(arr_2d[:,0], arr_2d[:,1], c=list(range(Y_phate.shape[0])), cmap='viridis', vmin=0, vmax=Y_phate.shape[0])\n",
    "    plt.colorbar()\n",
    "    plt.show()\n",
    "    \n",
    "def phate_3d(arr_3d, rotation=0):\n",
    "    fig = plt.figure(figsize=(12,10))\n",
    "    ax = fig.add_subplot(111, projection='3d')\n",
    "    plot = ax.scatter(arr_3d[:,0], arr_3d[:,1], arr_3d[:,2], c=list(range(Y_phate.shape[0])), cmap='viridis', vmin=0, vmax=Y_phate.shape[0])\n",
    "\n",
    "    ax.view_init(30, rotation)\n",
    "    plt.colorbar(plot)\n",
    "    plt.show()"
   ]
  },
  {
   "cell_type": "markdown",
   "id": "taken-engineer",
   "metadata": {},
   "source": [
    "### phate-embedding real data"
   ]
  },
  {
   "cell_type": "code",
   "execution_count": 62,
   "id": "literary-protocol",
   "metadata": {},
   "outputs": [],
   "source": [
    "# phate_operator = phate.PHATE()\n",
    "# Y_phate = phate_operator.fit_transform(run8_targets)"
   ]
  },
  {
   "cell_type": "code",
   "execution_count": 63,
   "id": "facial-federal",
   "metadata": {},
   "outputs": [],
   "source": [
    "# phate_2d(Y_phate)"
   ]
  },
  {
   "cell_type": "code",
   "execution_count": 64,
   "id": "caroline-metro",
   "metadata": {},
   "outputs": [],
   "source": [
    "# phate_operator.set_params(n_components=3)\n",
    "# Y_phate_3d = phate_operator.transform()"
   ]
  },
  {
   "cell_type": "code",
   "execution_count": 65,
   "id": "alien-tomato",
   "metadata": {},
   "outputs": [],
   "source": [
    "# phate_3d(Y_phate_3d, rotation=30)"
   ]
  },
  {
   "cell_type": "markdown",
   "id": "active-rider",
   "metadata": {},
   "source": [
    "### phate-embedding prediction version 1"
   ]
  },
  {
   "cell_type": "code",
   "execution_count": 66,
   "id": "banner-mitchell",
   "metadata": {},
   "outputs": [],
   "source": [
    "# Y_phate2 = phate_operator.fit_transform(pred_1)\n",
    "# phate_2d(Y_phate2)"
   ]
  },
  {
   "cell_type": "code",
   "execution_count": 67,
   "id": "delayed-zimbabwe",
   "metadata": {},
   "outputs": [],
   "source": [
    "# phate_operator.set_params(n_components=3)\n",
    "# Y_phate2_3d = phate_operator.transform()\n",
    "# phate_3d(Y_phate2_3d, rotation=30)"
   ]
  },
  {
   "cell_type": "markdown",
   "id": "pursuant-morrison",
   "metadata": {},
   "source": [
    "### phate embedding prediction version 2"
   ]
  },
  {
   "cell_type": "code",
   "execution_count": 68,
   "id": "diagnostic-actor",
   "metadata": {},
   "outputs": [],
   "source": [
    "# Y_phate3 = phate_operator.fit_transform(pred_2)\n",
    "# phate_2d(Y_phate3)"
   ]
  },
  {
   "cell_type": "code",
   "execution_count": 69,
   "id": "cheap-convertible",
   "metadata": {},
   "outputs": [],
   "source": [
    "# phate_operator.set_params(n_components=3)\n",
    "# Y_phate3_3d = phate_operator.transform()\n",
    "# phate_3d(Y_phate3_3d, rotation=30)"
   ]
  },
  {
   "cell_type": "markdown",
   "id": "addressed-arrival",
   "metadata": {},
   "source": [
    "### all versions embedded together"
   ]
  },
  {
   "cell_type": "code",
   "execution_count": 60,
   "id": "silent-disposition",
   "metadata": {},
   "outputs": [
    {
     "name": "stdout",
     "output_type": "stream",
     "text": [
      "(217, 50)\n",
      "(217, 50)\n",
      "(217, 50)\n"
     ]
    }
   ],
   "source": [
    "print(run_targets.shape)\n",
    "print(pred_1.shape)\n",
    "print(pred_2.shape)"
   ]
  },
  {
   "cell_type": "code",
   "execution_count": 61,
   "id": "increased-haven",
   "metadata": {},
   "outputs": [],
   "source": [
    "run_all = np.concatenate((run_targets, pred_1, pred_2))"
   ]
  },
  {
   "cell_type": "code",
   "execution_count": 62,
   "id": "general-transformation",
   "metadata": {},
   "outputs": [
    {
     "data": {
      "text/plain": [
       "(651, 50)"
      ]
     },
     "execution_count": 62,
     "metadata": {},
     "output_type": "execute_result"
    }
   ],
   "source": [
    "run_all.shape"
   ]
  },
  {
   "cell_type": "code",
   "execution_count": 63,
   "id": "certain-mouse",
   "metadata": {},
   "outputs": [
    {
     "name": "stdout",
     "output_type": "stream",
     "text": [
      "Calculating PHATE...\n",
      "  Running PHATE on 651 observations and 50 variables.\n",
      "  Calculating graph and diffusion operator...\n",
      "    Calculating KNN search...\n",
      "    Calculated KNN search in 0.07 seconds.\n",
      "    Calculating affinities...\n",
      "    Calculated affinities in 0.03 seconds.\n",
      "  Calculated graph and diffusion operator in 0.12 seconds.\n",
      "  Calculating optimal t...\n",
      "    Automatically selected t = 20\n",
      "  Calculated optimal t in 0.65 seconds.\n",
      "  Calculating diffusion potential...\n",
      "  Calculated diffusion potential in 0.51 seconds.\n",
      "  Calculating metric MDS...\n",
      "  Calculated metric MDS in 0.32 seconds.\n",
      "Calculated PHATE in 1.61 seconds.\n"
     ]
    }
   ],
   "source": [
    "phate_operator = phate.PHATE()\n",
    "Y_phate = phate_operator.fit_transform(run_all)"
   ]
  },
  {
   "cell_type": "code",
   "execution_count": 65,
   "id": "committed-screen",
   "metadata": {},
   "outputs": [],
   "source": [
    "t_run = run_targets.shape[0]\n",
    "phate_1 = Y_phate[:t_run, :]\n",
    "phate_2 = Y_phate[t_run:2*t_run, :]\n",
    "phate_3 = Y_phate[2*t_run:, :]"
   ]
  },
  {
   "cell_type": "code",
   "execution_count": 66,
   "id": "grave-offense",
   "metadata": {},
   "outputs": [
    {
     "data": {
      "image/png": "[encoded data removed]",
      "text/plain": [
       "<Figure size 864x720 with 4 Axes>"
      ]
     },
     "metadata": {
      "needs_background": "light"
     },
     "output_type": "display_data"
    }
   ],
   "source": [
    "plt.figure(figsize=(12,10))\n",
    "\n",
    "plot1 = plt.scatter(phate_1[:,0], phate_1[:,1], \n",
    "                    c=list(range(phate_1.shape[0])), cmap='Reds', vmin=0, vmax=phate_1.shape[0])\n",
    "plot2 = plt.scatter(phate_2[:,0], phate_2[:,1], \n",
    "                    c=list(range(phate_2.shape[0])), cmap='Greens', vmin=0, vmax=phate_2.shape[0])\n",
    "plot3 = plt.scatter(phate_3[:,0], phate_3[:,1], \n",
    "                    c=list(range(phate_3.shape[0])), cmap='Blues', vmin=0, vmax=phate_3.shape[0])\n",
    "\n",
    "plt.colorbar(plot3)\n",
    "plt.colorbar(plot2)\n",
    "plt.colorbar(plot1)\n",
    "plt.legend([plot1, plot2, plot3], ['ground truth', 'version 1', 'version 2'], labelcolor=['red', 'green', 'blue'])\n",
    "plt.show()"
   ]
  },
  {
   "cell_type": "markdown",
   "id": "studied-filename",
   "metadata": {},
   "source": [
    "3D Embeddings"
   ]
  },
  {
   "cell_type": "code",
   "execution_count": 67,
   "id": "union-farming",
   "metadata": {},
   "outputs": [
    {
     "name": "stdout",
     "output_type": "stream",
     "text": [
      "Calculating metric MDS...\n",
      "Calculated metric MDS in 1.77 seconds.\n"
     ]
    }
   ],
   "source": [
    "phate_operator.set_params(n_components=3)\n",
    "Y_phate3_3d = phate_operator.transform()\n",
    "\n",
    "phate_1_3d = Y_phate3_3d[:t_run, :]\n",
    "phate_2_3d = Y_phate3_3d[t_run:2*t_run, :]\n",
    "phate_3_3d = Y_phate3_3d[2*t_run:, :]"
   ]
  },
  {
   "cell_type": "code",
   "execution_count": 68,
   "id": "right-automation",
   "metadata": {},
   "outputs": [
    {
     "data": {
      "image/png": "[encoded data removed]",
      "text/plain": [
       "<Figure size 864x720 with 4 Axes>"
      ]
     },
     "metadata": {
      "needs_background": "light"
     },
     "output_type": "display_data"
    }
   ],
   "source": [
    "fig = plt.figure(figsize=(12,10))\n",
    "ax = fig.add_subplot(111, projection='3d')\n",
    "\n",
    "plot1_3d = ax.scatter(phate_1_3d[:,0], phate_1_3d[:,1], phate_1_3d[:,2], c=list(range(phate_1_3d.shape[0])), \n",
    "                  cmap='Greens', vmin=0, vmax=phate_1_3d.shape[0])\n",
    "plot2_3d = ax.scatter(phate_2_3d[:,0], phate_2_3d[:,1], phate_2_3d[:,2], c=list(range(phate_2_3d.shape[0])), \n",
    "                  cmap='Reds', vmin=0, vmax=phate_2_3d.shape[0])\n",
    "# plot3_3d = ax.scatter(phate_3_3d[:,0], phate_3_3d[:,1], phate_3_3d[:,2], c=list(range(phate_3_3d.shape[0])), \n",
    "#                   cmap='Blues', vmin=0, vmax=phate_3_3d.shape[0])\n",
    "\n",
    "ax.view_init(20, 30)\n",
    "\n",
    "plt.colorbar(plot3)\n",
    "plt.colorbar(plot2)\n",
    "plt.colorbar(plot1)\n",
    "ax.legend([plot1, plot2, plot3], ['ground truth', 'version 1', 'version 2'], labelcolor=['green', 'red', 'blue'])\n",
    "plt.show()"
   ]
  },
  {
   "cell_type": "markdown",
   "id": "young-stick",
   "metadata": {},
   "source": [
    "### 3. Timeseries comparison"
   ]
  },
  {
   "cell_type": "code",
   "execution_count": null,
   "id": "interstate-applicant",
   "metadata": {
    "scrolled": true
   },
   "outputs": [],
   "source": [
    "from IPython.display import clear_output\n",
    "\n",
    "def display_timeseries_2D(phate_1, phate_2):\n",
    "    \n",
    "    for i in range(phate_1.shape[0]):\n",
    "\n",
    "        clear_output(wait=True)\n",
    "\n",
    "        fig, ax = plt.subplots(figsize=(10, 8))\n",
    "\n",
    "        real_plot = ax.scatter(phate_1[:,0], phate_1[:,1], c=list(range(phate_1.shape[0])), \n",
    "                            cmap='Greens', vmin=0, vmax=phate_1.shape[0])\n",
    "        gen_plot1 = ax.scatter(phate_2[:,0], phate_2[:,1], c=list(range(phate_2.shape[0])), \n",
    "                           cmap='Reds', vmin=0, vmax=phate_2.shape[0])\n",
    "\n",
    "        ax.plot([phate_1[i,0], phate_2[i,0]], [phate_1[i,1], phate_2[i,1]], color='cyan', lw='5.0')\n",
    "        ax.plot(phate_1[i,0], phate_1[i,1], marker='o', mec='cyan', color='green', ms='12')\n",
    "        ax.plot(phate_2[i,0], phate_2[i,1], marker='o', mec='cyan', color='red', ms='12')\n",
    "        \n",
    "        plt.title(f'Timepoint {i}')\n",
    "    #     plt.show()\n",
    "\n",
    "        fig.savefig(f\"./fnn_results/pca_2d_t{i}\")\n",
    "        \n",
    "        \n",
    "def display_timeseries_3D(phate_1_3d, phate_2_3d): \n",
    "    \n",
    "    for i in range(phate_1_3d.shape[0]):\n",
    "        \n",
    "        fig = plt.figure(figsize=(12,10))\n",
    "        ax = fig.add_subplot(111, projection='3d')\n",
    "        \n",
    "        plot1_3d = ax.scatter(phate_1_3d[:,0], phate_1_3d[:,1], phate_1_3d[:,2], c=list(range(phate_1_3d.shape[0])), \n",
    "                          cmap='Greens', vmin=0, vmax=phate_1_3d.shape[0])\n",
    "        plot2_3d = ax.scatter(phate_2_3d[:,0], phate_2_3d[:,1], phate_2_3d[:,2], c=list(range(phate_2_3d.shape[0])), \n",
    "                          cmap='Reds', vmin=0, vmax=phate_2_3d.shape[0])\n",
    "\n",
    "        ax.plot([phate_1_3d[i,0], phate_2_3d[i,0]], [phate_1_3d[i,1], phate_2_3d[i,1]], [phate_1_3d[i,2], phate_2_3d[i,2]], color='cyan', lw='5.0')\n",
    "        ax.plot(phate_1_3d[i,0], phate_1_3d[i,1], phate_1_3d[i,2], marker='o', mec='cyan', color='green', ms='12')\n",
    "        ax.plot(phate_2_3d[i,0], phate_2_3d[i,1], phate_2_3d[i,2], marker='o', mec='cyan', color='red', ms='12')\n",
    "        \n",
    "        ax.view_init(20, 30)\n",
    "        \n",
    "        plt.title(f'Timepoint {i}')\n",
    "        ax.legend([plot1_3d, plot2_3d], ['ground truth', 'predictions'], labelcolor=['green', 'red',])\n",
    "        fig.savefig(f\"./fnn_results/pca_3d_t{i}\")"
   ]
  },
  {
   "cell_type": "code",
   "execution_count": null,
   "id": "herbal-jenny",
   "metadata": {},
   "outputs": [],
   "source": [
    "run_all = np.concatenate((run8_targets, pred_1))\n",
    "\n",
    "phate_operator = phate.PHATE()\n",
    "Y_phate_series = phate_operator.fit_transform(run_all)"
   ]
  },
  {
   "cell_type": "code",
   "execution_count": null,
   "id": "reasonable-motor",
   "metadata": {},
   "outputs": [],
   "source": [
    "t_run = run8_targets.shape[0]\n",
    "phate_real = Y_phate_series[:t_run, :]\n",
    "phate_pred = Y_phate_series[t_run:, :]\n",
    "\n",
    "print(phate_real.shape)\n",
    "print(phate_pred.shape)"
   ]
  },
  {
   "cell_type": "code",
   "execution_count": null,
   "id": "documented-hypothesis",
   "metadata": {},
   "outputs": [],
   "source": [
    "display_timeseries_2D(phate_real, phate_pred)"
   ]
  },
  {
   "cell_type": "code",
   "execution_count": null,
   "id": "ready-commitment",
   "metadata": {},
   "outputs": [],
   "source": [
    "phate_operator.set_params(n_components=3)\n",
    "Y_phate_series_3d = phate_operator.transform()\n",
    "\n",
    "phate_real_3d = Y_phate3_3d[:t_run, :]\n",
    "phate_pred_3d = Y_phate3_3d[t_run:2*t_run, :]\n",
    "\n",
    "print(phate_real_3d.shape)\n",
    "print(phate_pred_3d.shape)"
   ]
  },
  {
   "cell_type": "code",
   "execution_count": null,
   "id": "strange-minute",
   "metadata": {},
   "outputs": [],
   "source": [
    "display_timeseries_3D(phate_real_3d, phate_pred_3d)"
   ]
  },
  {
   "cell_type": "code",
   "execution_count": null,
   "id": "superior-liechtenstein",
   "metadata": {},
   "outputs": [],
   "source": []
  }
 ],
 "metadata": {
  "kernelspec": {
   "display_name": "Python 3",
   "language": "python",
   "name": "python3"
  },
  "language_info": {
   "codemirror_mode": {
    "name": "ipython",
    "version": 3
   },
   "file_extension": ".py",
   "mimetype": "text/x-python",
   "name": "python",
   "nbconvert_exporter": "python",
   "pygments_lexer": "ipython3",
   "version": "3.9.2"
  }
 },
 "nbformat": 4,
 "nbformat_minor": 5
}
